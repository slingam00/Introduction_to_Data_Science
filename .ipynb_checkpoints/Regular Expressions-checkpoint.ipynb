{
 "cells": [
  {
   "cell_type": "markdown",
   "metadata": {},
   "source": [
    "# Regular Expressions\n",
    "\n",
    "Regular Expression Sequence Cheat Sheet:\n",
    "\n",
    "https://cheatography.com/davechild/cheat-sheets/regular-expressions/\n",
    "\n",
    "Regular Expression Tester\n",
    "\n",
    "https://regex101.com"
   ]
  },
  {
   "cell_type": "markdown",
   "metadata": {},
   "source": [
    "## Import Statement"
   ]
  },
  {
   "cell_type": "code",
   "execution_count": 2,
   "metadata": {},
   "outputs": [],
   "source": [
    "import re   # regular express"
   ]
  },
  {
   "cell_type": "markdown",
   "metadata": {},
   "source": [
    "## re.findall()\n",
    "\n",
    "Returns a list of occurrences of a pattern in a string"
   ]
  },
  {
   "cell_type": "code",
   "execution_count": 15,
   "metadata": {},
   "outputs": [
    {
     "name": "stdout",
     "output_type": "stream",
     "text": [
      "['ab', 'ab', 'ab']\n",
      "[]\n",
      "['123']\n"
     ]
    }
   ],
   "source": [
    "test = \"abcdabtesabt123\"         # test string\n",
    "\n",
    "print(re.findall(\"ab\", test))    # matching characters 'ab'\n",
    "\n",
    "print(re.findall(\"x\", test))     # matching character 'x'\n",
    "\n",
    "print(re.findall(\"\\d+\", test))   # sequence of integers more than once"
   ]
  },
  {
   "cell_type": "markdown",
   "metadata": {},
   "source": [
    "## re.search()\n",
    "\n",
    "Returns the first matching object of a pattern in a string"
   ]
  },
  {
   "cell_type": "code",
   "execution_count": 4,
   "metadata": {},
   "outputs": [
    {
     "name": "stdout",
     "output_type": "stream",
     "text": [
      "<re.Match object; span=(3, 4), match=' '>\n",
      "<re.Match object; span=(9, 10), match='1'>\n"
     ]
    }
   ],
   "source": [
    "test = \"The Rain 12345\"        # test string\n",
    "print(re.search(\"\\s\", test))   # matching first space character\n",
    "print(re.search(\"\\d\", test))   # matching first integer character"
   ]
  },
  {
   "cell_type": "markdown",
   "metadata": {},
   "source": [
    "## re.split()\n",
    "\n",
    "Returns a list of the splitting of a string by a pattern"
   ]
  },
  {
   "cell_type": "code",
   "execution_count": 19,
   "metadata": {},
   "outputs": [
    {
     "name": "stdout",
     "output_type": "stream",
     "text": [
      "['This', 'is', 'a', 'test']\n"
     ]
    }
   ],
   "source": [
    "test = \"This is a test\"        # test string\n",
    "\n",
    "print(re.split(\"\\s\", test))    # splitting a string by a space"
   ]
  },
  {
   "cell_type": "markdown",
   "metadata": {},
   "source": [
    "## re.sub()\n",
    "\n",
    "Returns back the string with the subbing of a pattern with another pattern"
   ]
  },
  {
   "cell_type": "code",
   "execution_count": 21,
   "metadata": {},
   "outputs": [
    {
     "name": "stdout",
     "output_type": "stream",
     "text": [
      "123-456-789-abc-def-ghi\n",
      "numbers numbers numbers abc def ghi\n"
     ]
    }
   ],
   "source": [
    "test = \"123 456 789 abc def ghi\"       # test string\n",
    "\n",
    "print(re.sub(\"\\s\", \"-\", test))         # subbing a space with a dash\n",
    "\n",
    "print(re.sub(\"\\d+\", \"numbers\", test))  # subbing a sequence of numbers with the string 'numbers'"
   ]
  }
 ],
 "metadata": {
  "kernelspec": {
   "display_name": "Python 3",
   "language": "python",
   "name": "python3"
  },
  "language_info": {
   "codemirror_mode": {
    "name": "ipython",
    "version": 3
   },
   "file_extension": ".py",
   "mimetype": "text/x-python",
   "name": "python",
   "nbconvert_exporter": "python",
   "pygments_lexer": "ipython3",
   "version": "3.7.4"
  }
 },
 "nbformat": 4,
 "nbformat_minor": 2
}
